{
 "cells": [
  {
   "cell_type": "markdown",
   "metadata": {},
   "source": [
    "# Intro to RL\n",
    "\n",
    "The nature of learning. We are born not knowing much. Learn by example.\n",
    "\n",
    "Think of the agent as a puppy.\n",
    "\n",
    "Get asked to sit, so pick at random. Sits, gets a reward.\n",
    "\n",
    "Explore vs. exploit. Competing requirements\n"
   ]
  }
 ],
 "metadata": {
  "kernelspec": {
   "display_name": "Python 3",
   "language": "python",
   "name": "python3"
  },
  "language_info": {
   "codemirror_mode": {
    "name": "ipython",
    "version": 3
   },
   "file_extension": ".py",
   "mimetype": "text/x-python",
   "name": "python",
   "nbconvert_exporter": "python",
   "pygments_lexer": "ipython3",
   "version": "3.6.8"
  }
 },
 "nbformat": 4,
 "nbformat_minor": 2
}
