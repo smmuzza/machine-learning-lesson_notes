{
 "cells": [
  {
   "cell_type": "markdown",
   "metadata": {},
   "source": [
    "# CNNs\n",
    "\n",
    "## References to Learn More\n",
    "\n",
    "https://deepmind.com/blog/wavenet-generative-model-raw-audio/\n",
    "\n",
    "https://code.fb.com/ml-applications/a-novel-approach-to-neural-machine-translation/\n",
    "\n",
    "https://deepmind.com/research/dqn/\n",
    "\n",
    "https://quickdraw.withgoogle.com/#\n",
    "\n",
    "https://deepmind.com/research/alphago/\n",
    "\n",
    "\n",
    "## How Computers Interpret Images\n",
    "\n",
    "MNIST Database. 70,000 hand written images.\n",
    "\n",
    "Divide all by 255 to normalize pixels.\n",
    "\n",
    "ReLU helps with vanishing gradient problem.\n",
    "\n",
    "Categorical cross entropy loss checks the models prediction with the true label for a multi-class problem."
   ]
  }
 ],
 "metadata": {
  "kernelspec": {
   "display_name": "Python 3",
   "language": "python",
   "name": "python3"
  },
  "language_info": {
   "codemirror_mode": {
    "name": "ipython",
    "version": 3
   },
   "file_extension": ".py",
   "mimetype": "text/x-python",
   "name": "python",
   "nbconvert_exporter": "python",
   "pygments_lexer": "ipython3",
   "version": "3.6.8"
  }
 },
 "nbformat": 4,
 "nbformat_minor": 2
}
